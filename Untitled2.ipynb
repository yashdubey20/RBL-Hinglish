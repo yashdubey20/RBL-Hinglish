{
  "nbformat": 4,
  "nbformat_minor": 0,
  "metadata": {
    "colab": {
      "provenance": [],
      "gpuType": "T4"
    },
    "kernelspec": {
      "name": "python3",
      "display_name": "Python 3"
    },
    "language_info": {
      "name": "python"
    },
    "accelerator": "GPU"
  },
  "cells": [
    {
      "cell_type": "code",
      "execution_count": null,
      "metadata": {
        "colab": {
          "base_uri": "https://localhost:8080/"
        },
        "id": "sHrCE_gXcIiO",
        "outputId": "5b963c65-8af6-4183-a85b-57bebb0d4293"
      },
      "outputs": [
        {
          "output_type": "stream",
          "name": "stderr",
          "text": [
            "[nltk_data] Downloading package punkt to /root/nltk_data...\n",
            "[nltk_data]   Package punkt is already up-to-date!\n",
            "[nltk_data] Downloading package stopwords to /root/nltk_data...\n",
            "[nltk_data]   Package stopwords is already up-to-date!\n"
          ]
        },
        {
          "output_type": "stream",
          "name": "stdout",
          "text": [
            "(2370, 3) (790, 3) (790, 3)\n"
          ]
        }
      ],
      "source": [
        "import os\n",
        "import pandas as pd\n",
        "import numpy as np\n",
        "import matplotlib.pyplot as plt\n",
        "import re\n",
        "import nltk\n",
        "from sklearn.model_selection import train_test_split\n",
        "from nltk.corpus import stopwords\n",
        "from nltk.tokenize import word_tokenize\n",
        "import string\n",
        "\n",
        "nltk.download('punkt')\n",
        "nltk.download('stopwords')\n",
        "stop_words = set(stopwords.words('english'))\n",
        "\n",
        "# Load your datasets\n",
        "bjp = pd.read_csv('BJP.csv', encoding='ISO-8859-1')\n",
        "congress = pd.read_csv('congress.csv', encoding='ISO-8859-1')\n",
        "\n",
        "# Combine the datasets\n",
        "df = pd.concat([bjp, congress])\n",
        "\n",
        "# Fill missing values with an empty string\n",
        "df['commentText'] = df['commentText'].fillna('')\n",
        "\n",
        "# Shuffle the dataset\n",
        "df = df.sample(frac=1, random_state=42)\n",
        "\n",
        "# Split the dataset into train, validation, and test sets\n",
        "df_train, temp_df = train_test_split(df, test_size=0.4, random_state=42)\n",
        "df_val, df_test = train_test_split(temp_df, test_size=0.5, random_state=42)\n",
        "\n",
        "# Define preprocessing functions\n",
        "def clean_html(text):\n",
        "    cleanr = re.compile('<.*?>')\n",
        "    cleantext = re.sub(cleanr, '', text)\n",
        "    return cleantext\n",
        "\n",
        "def remove_links(text):\n",
        "    return re.sub(r'http\\S+|www.\\S+', '', text)\n",
        "\n",
        "def non_ascii(text):\n",
        "    return ''.join(i for i in text if ord(i)<128)\n",
        "\n",
        "def lower(text):\n",
        "    return text.lower()\n",
        "\n",
        "def email_address(text):\n",
        "    return re.sub(r'\\S*@\\S*\\s?', '', text)\n",
        "\n",
        "def removeStopWords(text):\n",
        "    word_tokens = word_tokenize(text)\n",
        "    filtered_sentence = [w for w in word_tokens if not w in stop_words]\n",
        "    return ' '.join(filtered_sentence)\n",
        "\n",
        "def punct(text):\n",
        "    return text.translate(str.maketrans('', '', string.punctuation))\n",
        "\n",
        "def remove_(text):\n",
        "    return re.sub('_', '', text)\n",
        "\n",
        "# Apply preprocessing functions\n",
        "df_train['commentText'] = df_train['commentText'].apply(clean_html).apply(remove_links).apply(non_ascii).apply(lower).apply(email_address).apply(removeStopWords).apply(punct).apply(remove_)\n",
        "df_val['commentText'] = df_val['commentText'].apply(clean_html).apply(remove_links).apply(non_ascii).apply(lower).apply(email_address).apply(removeStopWords).apply(punct).apply(remove_)\n",
        "\n",
        "print(df_train.shape, df_test.shape, df_val.shape)\n"
      ]
    },
    {
      "cell_type": "code",
      "source": [
        "from sklearn.model_selection import train_test_split\n",
        "from transformers import AutoTokenizer, TFBertModel\n",
        "\n",
        "# Assuming df_train and df_test are your training and testing dataframes\n",
        "df_train, df_test = train_test_split(df, test_size=0.3, random_state=42)\n",
        "\n",
        "tokenizer = AutoTokenizer.from_pretrained('bert-base-cased')\n",
        "bert = TFBertModel.from_pretrained('bert-base-cased')\n",
        "\n",
        "max_len = 80\n",
        "\n",
        "X_train = tokenizer(\n",
        "    text=df_train['commentText'].tolist(),\n",
        "    add_special_tokens=True,\n",
        "    max_length=max_len,\n",
        "    truncation=True,\n",
        "    padding=True,\n",
        "    return_tensors='tf',\n",
        "    return_token_type_ids=False,\n",
        "    return_attention_mask=True,\n",
        "    verbose=True\n",
        ")\n",
        "\n",
        "X_test = tokenizer(\n",
        "    text=df_test['commentText'].tolist(),\n",
        "    add_special_tokens=True,\n",
        "    max_length=max_len,\n",
        "    truncation=True,\n",
        "    padding=True,\n",
        "    return_tensors='tf',\n",
        "    return_token_type_ids=False,\n",
        "    return_attention_mask=True,\n",
        "    verbose=True\n",
        ")\n"
      ],
      "metadata": {
        "colab": {
          "base_uri": "https://localhost:8080/"
        },
        "id": "WxoAhCyKcWB4",
        "outputId": "2113f6c3-4802-4c99-cc3e-92a995ea5d2b"
      },
      "execution_count": null,
      "outputs": [
        {
          "output_type": "stream",
          "name": "stderr",
          "text": [
            "/usr/local/lib/python3.10/dist-packages/huggingface_hub/utils/_token.py:88: UserWarning: \n",
            "The secret `HF_TOKEN` does not exist in your Colab secrets.\n",
            "To authenticate with the Hugging Face Hub, create a token in your settings tab (https://huggingface.co/settings/tokens), set it as secret in your Google Colab and restart your session.\n",
            "You will be able to reuse this secret in all of your notebooks.\n",
            "Please note that authentication is recommended but still optional to access public models or datasets.\n",
            "  warnings.warn(\n",
            "Some weights of the PyTorch model were not used when initializing the TF 2.0 model TFBertModel: ['cls.predictions.transform.LayerNorm.bias', 'cls.predictions.transform.dense.bias', 'cls.seq_relationship.bias', 'cls.predictions.transform.dense.weight', 'cls.predictions.transform.LayerNorm.weight', 'cls.predictions.bias', 'cls.seq_relationship.weight']\n",
            "- This IS expected if you are initializing TFBertModel from a PyTorch model trained on another task or with another architecture (e.g. initializing a TFBertForSequenceClassification model from a BertForPreTraining model).\n",
            "- This IS NOT expected if you are initializing TFBertModel from a PyTorch model that you expect to be exactly identical (e.g. initializing a TFBertForSequenceClassification model from a BertForSequenceClassification model).\n",
            "All the weights of TFBertModel were initialized from the PyTorch model.\n",
            "If your task is similar to the task the model of the checkpoint was trained on, you can already use TFBertModel for predictions without further training.\n"
          ]
        }
      ]
    },
    {
      "cell_type": "code",
      "source": [
        "import tensorflow as tf\n",
        "from tensorflow.keras.optimizers import Adam\n",
        "from tensorflow.keras.callbacks import LearningRateScheduler\n",
        "from tensorflow.keras.losses import CategoricalCrossentropy\n",
        "from tensorflow.keras.metrics import CategoricalAccuracy\n",
        "from tensorflow.keras.utils import to_categorical\n",
        "from tensorflow.keras.layers import Input, Dense\n",
        "from sklearn.model_selection import train_test_split\n",
        "from transformers import AutoTokenizer, TFBertModel\n",
        "\n",
        "input_ids = Input(shape=(max_len,), dtype=tf.int32, name=\"input_ids\")\n",
        "input_mask = Input(shape=(max_len,), dtype=tf.int32, name=\"attention_mask\")\n",
        "\n",
        "embeddings = bert(input_ids, attention_mask=input_mask)[0]\n",
        "out = tf.keras.layers.GlobalMaxPool1D()(embeddings)\n",
        "out = Dense(32, activation='relu')(out)\n",
        "out = tf.keras.layers.Dropout(0.1)(out)\n",
        "out = Dense(32, activation='relu')(out)\n",
        "out = tf.keras.layers.Dropout(0.1)(out)\n",
        "out = Dense(256, activation='relu')(out)\n",
        "out = tf.keras.layers.Dropout(0.1)(out)\n",
        "out = Dense(256, activation='relu')(out)\n",
        "\n",
        "# Assuming the number of classes is 6, modify it according to your dataset\n",
        "num_classes = 2\n",
        "y = Dense(num_classes, activation='softmax')(out)\n",
        "\n",
        "model = tf.keras.Model(inputs=[input_ids, input_mask], outputs=y)\n",
        "model.layers[2].trainable = True\n",
        "\n",
        "optimizer = Adam(\n",
        "    learning_rate=5e-05,\n",
        "    epsilon=1e-08,\n",
        "    clipnorm=1.0\n",
        ")\n",
        "\n",
        "loss = CategoricalCrossentropy(from_logits=False)  # Ensure from_logits is False for softmax\n",
        "metric = CategoricalAccuracy(name='accuracy')\n",
        "\n",
        "model.compile(\n",
        "    optimizer=optimizer,\n",
        "    loss=loss,\n",
        "    metrics=[metric]\n",
        ")\n",
        "\n",
        "# One-hot encode target data\n",
        "y_train = to_categorical(df_train['Label'], num_classes=num_classes)\n",
        "y_test = to_categorical(df_test['Label'], num_classes=num_classes)\n",
        "\n",
        "# Learning rate decay callback example (you can customize it based on your needs)\n",
        "def lr_schedule(epoch):\n",
        "    return 5e-05 * 0.95**epoch\n",
        "\n",
        "lr_scheduler = LearningRateScheduler(lr_schedule)\n",
        "\n",
        "history = model.fit(\n",
        "    x={'input_ids': X_train['input_ids'], 'attention_mask': X_train['attention_mask']},\n",
        "    y=y_train,\n",
        "    validation_data=({'input_ids': X_test['input_ids'], 'attention_mask': X_test['attention_mask']},\n",
        "                     y_test),\n",
        "    epochs=1,\n",
        "    batch_size=32,\n",
        "    callbacks=[lr_scheduler]\n",
        ")\n"
      ],
      "metadata": {
        "colab": {
          "base_uri": "https://localhost:8080/"
        },
        "id": "icCm0zowcXvh",
        "outputId": "15b6da7d-783d-4593-c85b-ecd4a77efb5d"
      },
      "execution_count": null,
      "outputs": [
        {
          "output_type": "stream",
          "name": "stderr",
          "text": [
            "WARNING:tensorflow:Gradients do not exist for variables ['tf_bert_model/bert/pooler/dense/kernel:0', 'tf_bert_model/bert/pooler/dense/bias:0'] when minimizing the loss. If you're using `model.compile()`, did you forget to provide a `loss` argument?\n",
            "WARNING:tensorflow:Gradients do not exist for variables ['tf_bert_model/bert/pooler/dense/kernel:0', 'tf_bert_model/bert/pooler/dense/bias:0'] when minimizing the loss. If you're using `model.compile()`, did you forget to provide a `loss` argument?\n",
            "WARNING:tensorflow:Gradients do not exist for variables ['tf_bert_model/bert/pooler/dense/kernel:0', 'tf_bert_model/bert/pooler/dense/bias:0'] when minimizing the loss. If you're using `model.compile()`, did you forget to provide a `loss` argument?\n",
            "WARNING:tensorflow:Gradients do not exist for variables ['tf_bert_model/bert/pooler/dense/kernel:0', 'tf_bert_model/bert/pooler/dense/bias:0'] when minimizing the loss. If you're using `model.compile()`, did you forget to provide a `loss` argument?\n"
          ]
        },
        {
          "output_type": "stream",
          "name": "stdout",
          "text": [
            "87/87 [==============================] - 115s 675ms/step - loss: 0.6592 - accuracy: 0.5747 - val_loss: 0.5813 - val_accuracy: 0.6135 - lr: 5.0000e-05\n"
          ]
        }
      ]
    },
    {
      "cell_type": "code",
      "source": [
        "from sklearn.metrics import classification_report\n",
        "\n",
        "predicted = model.predict({'input_ids': X_test['input_ids'], 'attention_mask': X_test['attention_mask']})\n",
        "y_predicted = np.argmax(predicted, axis=1)\n",
        "print(classification_report(df_test['Label'], y_predicted))"
      ],
      "metadata": {
        "colab": {
          "base_uri": "https://localhost:8080/"
        },
        "id": "k93GhicxcarG",
        "outputId": "a275b8ad-9376-457b-fdc9-e91761a53e91"
      },
      "execution_count": null,
      "outputs": [
        {
          "output_type": "stream",
          "name": "stdout",
          "text": [
            "38/38 [==============================] - 9s 166ms/step\n",
            "              precision    recall  f1-score   support\n",
            "\n",
            "           0       0.92      0.27      0.42       609\n",
            "           1       0.56      0.97      0.71       576\n",
            "\n",
            "    accuracy                           0.61      1185\n",
            "   macro avg       0.74      0.62      0.57      1185\n",
            "weighted avg       0.74      0.61      0.56      1185\n",
            "\n"
          ]
        }
      ]
    }
  ]
}